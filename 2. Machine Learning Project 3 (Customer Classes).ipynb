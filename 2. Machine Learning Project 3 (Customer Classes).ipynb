{
 "cells": [
  {
   "cell_type": "markdown",
   "id": "437865d3",
   "metadata": {},
   "source": [
    "---"
   ]
  },
  {
   "cell_type": "markdown",
   "id": "8ce6b7c1",
   "metadata": {},
   "source": [
    "# 2. Machine Learning with Python 3 (Project 3, K Nearest Neighbours)\n",
    "\n",
    "# Goal: \n",
    "\n",
    "## Classification of the Customers of a Company via knn Algorithm\n",
    "\n",
    "# _00. Import Main Libraries_\n",
    "\n",
    "# _01. Load the Data and Explore the Basics of It_\n",
    "\n",
    "# _02. Train-Test Split and Normalization_\n",
    "\n",
    "# _03. Classification via knn_\n",
    "\n",
    "# _04. Evaluation of the Model Success_\n",
    "\n",
    "# _05. Optimization Loop for k_"
   ]
  },
  {
   "cell_type": "markdown",
   "id": "63e068cb",
   "metadata": {},
   "source": [
    "---\n",
    "---\n",
    "---"
   ]
  },
  {
   "cell_type": "markdown",
   "id": "341b78aa",
   "metadata": {},
   "source": [
    "# _00. Import Main Libraries_"
   ]
  },
  {
   "cell_type": "code",
   "execution_count": 122,
   "id": "9c9fcfe8",
   "metadata": {},
   "outputs": [],
   "source": [
    "import pandas as pd\n",
    "import numpy as np\n",
    "\n",
    "from sklearn import preprocessing\n",
    "import itertools\n",
    "\n",
    "import matplotlib.pyplot as plt\n",
    "import matplotlib.ticker as ticker\n",
    "from matplotlib.ticker import NullFormatter"
   ]
  },
  {
   "cell_type": "markdown",
   "id": "1d987007",
   "metadata": {},
   "source": [
    "# _01. Load the Data and Explore the Basics of It_"
   ]
  },
  {
   "cell_type": "code",
   "execution_count": 123,
   "id": "734b7a51",
   "metadata": {},
   "outputs": [
    {
     "data": {
      "text/html": [
       "<div>\n",
       "<style scoped>\n",
       "    .dataframe tbody tr th:only-of-type {\n",
       "        vertical-align: middle;\n",
       "    }\n",
       "\n",
       "    .dataframe tbody tr th {\n",
       "        vertical-align: top;\n",
       "    }\n",
       "\n",
       "    .dataframe thead th {\n",
       "        text-align: right;\n",
       "    }\n",
       "</style>\n",
       "<table border=\"1\" class=\"dataframe\">\n",
       "  <thead>\n",
       "    <tr style=\"text-align: right;\">\n",
       "      <th></th>\n",
       "      <th>region</th>\n",
       "      <th>tenure</th>\n",
       "      <th>age</th>\n",
       "      <th>marital</th>\n",
       "      <th>address</th>\n",
       "      <th>income</th>\n",
       "      <th>ed</th>\n",
       "      <th>employ</th>\n",
       "      <th>retire</th>\n",
       "      <th>gender</th>\n",
       "      <th>reside</th>\n",
       "      <th>custcat</th>\n",
       "    </tr>\n",
       "  </thead>\n",
       "  <tbody>\n",
       "    <tr>\n",
       "      <th>0</th>\n",
       "      <td>2</td>\n",
       "      <td>13</td>\n",
       "      <td>44</td>\n",
       "      <td>1</td>\n",
       "      <td>9</td>\n",
       "      <td>64.0</td>\n",
       "      <td>4</td>\n",
       "      <td>5</td>\n",
       "      <td>0.0</td>\n",
       "      <td>0</td>\n",
       "      <td>2</td>\n",
       "      <td>1</td>\n",
       "    </tr>\n",
       "    <tr>\n",
       "      <th>1</th>\n",
       "      <td>3</td>\n",
       "      <td>11</td>\n",
       "      <td>33</td>\n",
       "      <td>1</td>\n",
       "      <td>7</td>\n",
       "      <td>136.0</td>\n",
       "      <td>5</td>\n",
       "      <td>5</td>\n",
       "      <td>0.0</td>\n",
       "      <td>0</td>\n",
       "      <td>6</td>\n",
       "      <td>4</td>\n",
       "    </tr>\n",
       "    <tr>\n",
       "      <th>2</th>\n",
       "      <td>3</td>\n",
       "      <td>68</td>\n",
       "      <td>52</td>\n",
       "      <td>1</td>\n",
       "      <td>24</td>\n",
       "      <td>116.0</td>\n",
       "      <td>1</td>\n",
       "      <td>29</td>\n",
       "      <td>0.0</td>\n",
       "      <td>1</td>\n",
       "      <td>2</td>\n",
       "      <td>3</td>\n",
       "    </tr>\n",
       "    <tr>\n",
       "      <th>3</th>\n",
       "      <td>2</td>\n",
       "      <td>33</td>\n",
       "      <td>33</td>\n",
       "      <td>0</td>\n",
       "      <td>12</td>\n",
       "      <td>33.0</td>\n",
       "      <td>2</td>\n",
       "      <td>0</td>\n",
       "      <td>0.0</td>\n",
       "      <td>1</td>\n",
       "      <td>1</td>\n",
       "      <td>1</td>\n",
       "    </tr>\n",
       "    <tr>\n",
       "      <th>4</th>\n",
       "      <td>2</td>\n",
       "      <td>23</td>\n",
       "      <td>30</td>\n",
       "      <td>1</td>\n",
       "      <td>9</td>\n",
       "      <td>30.0</td>\n",
       "      <td>1</td>\n",
       "      <td>2</td>\n",
       "      <td>0.0</td>\n",
       "      <td>0</td>\n",
       "      <td>4</td>\n",
       "      <td>3</td>\n",
       "    </tr>\n",
       "  </tbody>\n",
       "</table>\n",
       "</div>"
      ],
      "text/plain": [
       "   region  tenure  age  marital  address  income  ed  employ  retire  gender  \\\n",
       "0       2      13   44        1        9    64.0   4       5     0.0       0   \n",
       "1       3      11   33        1        7   136.0   5       5     0.0       0   \n",
       "2       3      68   52        1       24   116.0   1      29     0.0       1   \n",
       "3       2      33   33        0       12    33.0   2       0     0.0       1   \n",
       "4       2      23   30        1        9    30.0   1       2     0.0       0   \n",
       "\n",
       "   reside  custcat  \n",
       "0       2        1  \n",
       "1       6        4  \n",
       "2       2        3  \n",
       "3       1        1  \n",
       "4       4        3  "
      ]
     },
     "execution_count": 123,
     "metadata": {},
     "output_type": "execute_result"
    }
   ],
   "source": [
    "df = pd.read_csv(\"teleCust1000t.csv\")\n",
    "\n",
    "df.head()"
   ]
  },
  {
   "cell_type": "code",
   "execution_count": 124,
   "id": "4c825599",
   "metadata": {},
   "outputs": [
    {
     "name": "stdout",
     "output_type": "stream",
     "text": [
      "<class 'pandas.core.frame.DataFrame'>\n",
      "RangeIndex: 1000 entries, 0 to 999\n",
      "Data columns (total 12 columns):\n",
      " #   Column   Non-Null Count  Dtype  \n",
      "---  ------   --------------  -----  \n",
      " 0   region   1000 non-null   int64  \n",
      " 1   tenure   1000 non-null   int64  \n",
      " 2   age      1000 non-null   int64  \n",
      " 3   marital  1000 non-null   int64  \n",
      " 4   address  1000 non-null   int64  \n",
      " 5   income   1000 non-null   float64\n",
      " 6   ed       1000 non-null   int64  \n",
      " 7   employ   1000 non-null   int64  \n",
      " 8   retire   1000 non-null   float64\n",
      " 9   gender   1000 non-null   int64  \n",
      " 10  reside   1000 non-null   int64  \n",
      " 11  custcat  1000 non-null   int64  \n",
      "dtypes: float64(2), int64(10)\n",
      "memory usage: 93.9 KB\n"
     ]
    }
   ],
   "source": [
    "df.info()"
   ]
  },
  {
   "cell_type": "code",
   "execution_count": 125,
   "id": "cec017fe",
   "metadata": {},
   "outputs": [
    {
     "data": {
      "text/plain": [
       "custcat\n",
       "3          281\n",
       "1          266\n",
       "4          236\n",
       "2          217\n",
       "dtype: int64"
      ]
     },
     "execution_count": 125,
     "metadata": {},
     "output_type": "execute_result"
    }
   ],
   "source": [
    "df[[\"custcat\"]].value_counts()\n",
    "\n",
    "# 1- Basic Service \n",
    "# 2- E-Service \n",
    "# 3- Plus Service \n",
    "# 4- Total Service"
   ]
  },
  {
   "cell_type": "code",
   "execution_count": 126,
   "id": "7726f39b",
   "metadata": {},
   "outputs": [
    {
     "data": {
      "image/png": "[encoded data removed]",
      "text/plain": [
       "<Figure size 432x288 with 1 Axes>"
      ]
     },
     "metadata": {
      "needs_background": "light"
     },
     "output_type": "display_data"
    }
   ],
   "source": [
    "df[[\"income\"]].plot.hist()\n",
    "\n",
    "plt.xlabel(\"Customer Income\", fontsize = 15)\n",
    "plt.ylabel(\"Frequency\",fontsize = 15)\n",
    "plt.show()"
   ]
  },
  {
   "cell_type": "markdown",
   "id": "f33857a1",
   "metadata": {},
   "source": [
    "# _02. Train-Test Split and Normalization_"
   ]
  },
  {
   "cell_type": "code",
   "execution_count": 127,
   "id": "1af95faf",
   "metadata": {},
   "outputs": [],
   "source": [
    "# predictors\n",
    "\n",
    "X = df.drop('custcat',axis=1)"
   ]
  },
  {
   "cell_type": "code",
   "execution_count": 128,
   "id": "d7d8bf8f",
   "metadata": {},
   "outputs": [],
   "source": [
    "# target var\n",
    "\n",
    "y = df[[\"custcat\"]]"
   ]
  },
  {
   "cell_type": "code",
   "execution_count": 129,
   "id": "c40845ff",
   "metadata": {},
   "outputs": [],
   "source": [
    "# train-test split and float casting\n",
    "\n",
    "from sklearn.model_selection import train_test_split\n",
    "\n",
    "X_train, X_test, y_train, y_test = train_test_split(X, y, test_size=0.2, random_state=1)\n",
    "\n",
    "X_train, X_test = X_train.astype(float), X_test.astype(float)"
   ]
  },
  {
   "cell_type": "code",
   "execution_count": 130,
   "id": "60da5028",
   "metadata": {},
   "outputs": [
    {
     "name": "stdout",
     "output_type": "stream",
     "text": [
      "Train set (X_train, y_train):\n",
      " (800, 11) (800, 1)\n",
      "\n",
      "Test set (X_test, y_test):\n",
      " (200, 11) (200, 1)\n"
     ]
    }
   ],
   "source": [
    "# observe the shape of the train and test sets\n",
    "\n",
    "print ('Train set (X_train, y_train):\\n', X_train.shape,  y_train.shape)\n",
    "\n",
    "print ('\\nTest set (X_test, y_test):\\n', X_test.shape,  y_test.shape)"
   ]
  },
  {
   "cell_type": "code",
   "execution_count": 131,
   "id": "dbecdc26",
   "metadata": {},
   "outputs": [],
   "source": [
    "from sklearn.preprocessing import StandardScaler"
   ]
  },
  {
   "cell_type": "code",
   "execution_count": 132,
   "id": "8109cd8d",
   "metadata": {},
   "outputs": [],
   "source": [
    "# normalize X_train\n",
    "\n",
    "scaler1 = StandardScaler()\n",
    "\n",
    "scaler1.fit(X_train)\n",
    "\n",
    "X_train1 = scaler1.transform(X_train)\n",
    "\n",
    "X_test1 = scaler1.transform(X_test)"
   ]
  },
  {
   "cell_type": "markdown",
   "id": "85727d63",
   "metadata": {},
   "source": [
    "# _03. Classification via knn_"
   ]
  },
  {
   "cell_type": "code",
   "execution_count": 133,
   "id": "e995994e",
   "metadata": {},
   "outputs": [],
   "source": [
    "from sklearn.neighbors import KNeighborsClassifier"
   ]
  },
  {
   "cell_type": "code",
   "execution_count": 134,
   "id": "cd4ea3fe",
   "metadata": {},
   "outputs": [
    {
     "data": {
      "text/plain": [
       "KNeighborsClassifier(n_neighbors=4)"
      ]
     },
     "execution_count": 134,
     "metadata": {},
     "output_type": "execute_result"
    }
   ],
   "source": [
    "# start with k as 4 then fit the knn model\n",
    "\n",
    "k = 4\n",
    "\n",
    "neigh4 = KNeighborsClassifier(n_neighbors = k).fit(X_train1,y_train.custcat)\n",
    "\n",
    "neigh4"
   ]
  },
  {
   "cell_type": "code",
   "execution_count": 135,
   "id": "e0c025be",
   "metadata": {},
   "outputs": [
    {
     "data": {
      "text/plain": [
       "array([1, 1, 1, 3, 1], dtype=int64)"
      ]
     },
     "execution_count": 135,
     "metadata": {},
     "output_type": "execute_result"
    }
   ],
   "source": [
    "# predict with test data\n",
    "\n",
    "yhat = neigh4.predict(X_test1)\n",
    "\n",
    "yhat[0:5]\n",
    "\n"
   ]
  },
  {
   "cell_type": "markdown",
   "id": "9797c9d3",
   "metadata": {},
   "source": [
    "# _04. Evaluation of the Model Success_"
   ]
  },
  {
   "cell_type": "code",
   "execution_count": 136,
   "id": "7691bf2c",
   "metadata": {},
   "outputs": [
    {
     "name": "stdout",
     "output_type": "stream",
     "text": [
      "Train set Accuracy:  0.56625\n",
      "Test set Accuracy:  0.34\n"
     ]
    }
   ],
   "source": [
    "# accuracy classification score (Jaccard Index)\n",
    "\n",
    "from sklearn import metrics\n",
    "\n",
    "print(\"Train set Accuracy: \", metrics.accuracy_score(y_train, neigh4.predict(X_train1)))\n",
    "\n",
    "print(\"Test set Accuracy: \", metrics.accuracy_score(y_test, yhat))\n",
    "\n",
    "\n",
    "# Train set Accuracy:  0.56625\n",
    "# Test set Accuracy:  0.34"
   ]
  },
  {
   "cell_type": "markdown",
   "id": "27fbf978",
   "metadata": {},
   "source": [
    "# _05. Optimization Loop for k_"
   ]
  },
  {
   "cell_type": "code",
   "execution_count": 137,
   "id": "b2162203",
   "metadata": {},
   "outputs": [
    {
     "name": "stdout",
     "output_type": "stream",
     "text": [
      "The best accuracy with test data was 0.4 via k= 25\n"
     ]
    }
   ],
   "source": [
    "kMax = 30\n",
    "\n",
    "mean_acc_scores = np.zeros(kMax)\n",
    "\n",
    "std_acc_scores = np.zeros(kMax)\n",
    "\n",
    "\n",
    "for k in range(1,kMax+1):\n",
    "    \n",
    "    neigh = KNeighborsClassifier(n_neighbors = k).fit(X_train1,y_train.custcat)\n",
    "    \n",
    "    yhat = neigh.predict(X_test1)\n",
    "    \n",
    "    mean_acc_scores[k-1] = metrics.accuracy_score(y_test, yhat)\n",
    "    \n",
    "    \n",
    "print( \"The best accuracy with test data was\", mean_acc_scores.max(), \"via k=\", mean_acc_scores.argmax()+1) "
   ]
  }
 ],
 "metadata": {
  "kernelspec": {
   "display_name": "Python 3",
   "language": "python",
   "name": "python3"
  },
  "language_info": {
   "codemirror_mode": {
    "name": "ipython",
    "version": 3
   },
   "file_extension": ".py",
   "mimetype": "text/x-python",
   "name": "python",
   "nbconvert_exporter": "python",
   "pygments_lexer": "ipython3",
   "version": "3.8.8"
  }
 },
 "nbformat": 4,
 "nbformat_minor": 5
}
